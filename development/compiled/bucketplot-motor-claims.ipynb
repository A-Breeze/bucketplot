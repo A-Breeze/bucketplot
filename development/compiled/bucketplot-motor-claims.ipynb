{
 "cells": [
  {
   "cell_type": "markdown",
   "metadata": {},
   "source": [
    "# Bucket plot visualisations for motor insurance claim frequency models\n",
    "Using an open source data set of French Motor Claims as an example to demonstrate how `bucketplot` visualisations can be used in the modelling process.\n",
    "\n",
    "<!-- This table of contents is updated *manually* -->\n",
    "## Contents\n",
    "1. [Setup](#Setup)\n",
    "1. [TBA](#TBA): TBA\n",
    "\n",
    "<div style=\"text-align: right\"><a href=\"#Contents\">Back to Contents</a></div>\n",
    "\n",
    "## Setup\n",
    "\n",
    "<div style=\"text-align: right\"><a href=\"#Contents\">Back to Contents</a></div>\n",
    "\n",
    "## TBA\n",
    "\n",
    "<div style=\"text-align: right\"><a href=\"#Contents\">Back to Contents</a></div>"
   ]
  }
 ],
 "metadata": {
  "kernelspec": {
   "display_name": "Python 3",
   "language": "python",
   "name": "python3"
  },
  "language_info": {
   "codemirror_mode": {
    "name": "ipython",
    "version": 3
   },
   "file_extension": ".py",
   "mimetype": "text/x-python",
   "name": "python",
   "nbconvert_exporter": "python",
   "pygments_lexer": "ipython3",
   "version": "3.6.6"
  }
 },
 "nbformat": 4,
 "nbformat_minor": 4
}
